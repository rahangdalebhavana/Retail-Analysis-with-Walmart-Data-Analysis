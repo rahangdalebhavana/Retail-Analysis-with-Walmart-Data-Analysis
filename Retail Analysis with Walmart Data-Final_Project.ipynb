{
 "cells": [
  {
   "cell_type": "code",
   "execution_count": 1,
   "id": "6a17215c-4c6e-4681-bdbd-ca0b95adecd1",
   "metadata": {},
   "outputs": [],
   "source": [
    "# Import necessary libraries:\n",
    "import pandas as pd\n",
    "import numpy as np\n",
    "import seaborn as sns\n",
    "import matplotlib.pyplot as plt\n",
    "from matplotlib import dates\n",
    "from datetime import datetime\n",
    "import warnings\n",
    "warnings.filterwarnings('ignore')"
   ]
  },
  {
   "cell_type": "markdown",
   "id": "0fd39a1f-d7dd-4227-b1da-e82f7997074b",
   "metadata": {},
   "source": [
    "### Retail Analysis with Walmart Data\n",
    "\n",
    "* Walmart runs several promotional markdown events throughout the year. These markdowns precede prominent holidays, the four largest of all, which are the Super Bowl, Labour Day, Thanksgiving, and Christmas. The weeks including these holidays are weighted five times higher in the evaluation than non-holiday weeks. Part of the challenge presented by this competition is modeling the effects of markdowns on these holiday weeks in the absence of complete/ideal historical data. Historical sales data for 45 Walmart stores located in different regions are available.\n",
    "\n",
    "#### In this project we focused to answer the following questions:\n",
    "#### A.Basic Statistics tasks\n",
    "\n",
    "1. Which store has maximum sales\n",
    "2. Which store has maximum standard deviation i.e., the sales vary a lot. Also, find out the coefficient of mean to standard deviation\n",
    "3. Which store/s has good quarterly growth rate in Q3’2012\n",
    "4. Some holidays have a negative impact on sales. Find out holidays which have higher sales than the mean sales in non-holiday season for all stores together\n",
    "5. Provide a monthly and semester view of sales in units and give insights\n",
    "\n",
    "#### B.Statistical Model\n",
    "1. For Store 1 – Build  prediction models to forecast demand\n",
    "    *Linear Regression – Utilize variables like date and restructure dates as 1 for 5 Feb 2010 (starting from the earliest date in order). Hypothesize if CPI, unemployment, and fuel price have any impact on sales.\n",
    "    *Change dates into days by creating new variable."
   ]
  },
  {
   "cell_type": "markdown",
   "id": "a81d03d1-c06d-4803-8b46-746b74b70e10",
   "metadata": {},
   "source": [
    "### Data Understanding\n",
    "\n",
    "In the file Walmart_Store_sales, there are sales data available for 45 stores This is the historical data that covers sales from 2010-02-05 to 2012-11-01 .\n",
    "\n",
    "The data contains these features:\n",
    "- Store - the store number\n",
    "- Date - the week of sales\n",
    "- Weekly_Sales -  sales for the given store\n",
    "- Holiday_Flag - whether the week is a special holiday week 1 – Holiday week 0 – Non-holiday week\n",
    "- Temperature - Temperature on the day of sale\n",
    "- Fuel_Price - Cost of fuel in the region\n",
    "- CPI – Prevailing consumer price index\n",
    "- Unemployment - Prevailing unemployment rate"
   ]
  },
  {
   "cell_type": "code",
   "execution_count": 2,
   "id": "3dd27925-70ee-45be-9495-8bf4cd0c7557",
   "metadata": {},
   "outputs": [
    {
     "data": {
      "text/html": [
       "<div>\n",
       "<style scoped>\n",
       "    .dataframe tbody tr th:only-of-type {\n",
       "        vertical-align: middle;\n",
       "    }\n",
       "\n",
       "    .dataframe tbody tr th {\n",
       "        vertical-align: top;\n",
       "    }\n",
       "\n",
       "    .dataframe thead th {\n",
       "        text-align: right;\n",
       "    }\n",
       "</style>\n",
       "<table border=\"1\" class=\"dataframe\">\n",
       "  <thead>\n",
       "    <tr style=\"text-align: right;\">\n",
       "      <th></th>\n",
       "      <th>Store</th>\n",
       "      <th>Date</th>\n",
       "      <th>Weekly_Sales</th>\n",
       "      <th>Holiday_Flag</th>\n",
       "      <th>Temperature</th>\n",
       "      <th>Fuel_Price</th>\n",
       "      <th>CPI</th>\n",
       "      <th>Unemployment</th>\n",
       "    </tr>\n",
       "  </thead>\n",
       "  <tbody>\n",
       "    <tr>\n",
       "      <th>0</th>\n",
       "      <td>1</td>\n",
       "      <td>05-02-2010</td>\n",
       "      <td>1643690.90</td>\n",
       "      <td>0</td>\n",
       "      <td>42.31</td>\n",
       "      <td>2.572</td>\n",
       "      <td>211.096358</td>\n",
       "      <td>8.106</td>\n",
       "    </tr>\n",
       "    <tr>\n",
       "      <th>1</th>\n",
       "      <td>1</td>\n",
       "      <td>12-02-2010</td>\n",
       "      <td>1641957.44</td>\n",
       "      <td>1</td>\n",
       "      <td>38.51</td>\n",
       "      <td>2.548</td>\n",
       "      <td>211.242170</td>\n",
       "      <td>8.106</td>\n",
       "    </tr>\n",
       "    <tr>\n",
       "      <th>2</th>\n",
       "      <td>1</td>\n",
       "      <td>19-02-2010</td>\n",
       "      <td>1611968.17</td>\n",
       "      <td>0</td>\n",
       "      <td>39.93</td>\n",
       "      <td>2.514</td>\n",
       "      <td>211.289143</td>\n",
       "      <td>8.106</td>\n",
       "    </tr>\n",
       "    <tr>\n",
       "      <th>3</th>\n",
       "      <td>1</td>\n",
       "      <td>26-02-2010</td>\n",
       "      <td>1409727.59</td>\n",
       "      <td>0</td>\n",
       "      <td>46.63</td>\n",
       "      <td>2.561</td>\n",
       "      <td>211.319643</td>\n",
       "      <td>8.106</td>\n",
       "    </tr>\n",
       "    <tr>\n",
       "      <th>4</th>\n",
       "      <td>1</td>\n",
       "      <td>05-03-2010</td>\n",
       "      <td>1554806.68</td>\n",
       "      <td>0</td>\n",
       "      <td>46.50</td>\n",
       "      <td>2.625</td>\n",
       "      <td>211.350143</td>\n",
       "      <td>8.106</td>\n",
       "    </tr>\n",
       "    <tr>\n",
       "      <th>...</th>\n",
       "      <td>...</td>\n",
       "      <td>...</td>\n",
       "      <td>...</td>\n",
       "      <td>...</td>\n",
       "      <td>...</td>\n",
       "      <td>...</td>\n",
       "      <td>...</td>\n",
       "      <td>...</td>\n",
       "    </tr>\n",
       "    <tr>\n",
       "      <th>6430</th>\n",
       "      <td>45</td>\n",
       "      <td>28-09-2012</td>\n",
       "      <td>713173.95</td>\n",
       "      <td>0</td>\n",
       "      <td>64.88</td>\n",
       "      <td>3.997</td>\n",
       "      <td>192.013558</td>\n",
       "      <td>8.684</td>\n",
       "    </tr>\n",
       "    <tr>\n",
       "      <th>6431</th>\n",
       "      <td>45</td>\n",
       "      <td>05-10-2012</td>\n",
       "      <td>733455.07</td>\n",
       "      <td>0</td>\n",
       "      <td>64.89</td>\n",
       "      <td>3.985</td>\n",
       "      <td>192.170412</td>\n",
       "      <td>8.667</td>\n",
       "    </tr>\n",
       "    <tr>\n",
       "      <th>6432</th>\n",
       "      <td>45</td>\n",
       "      <td>12-10-2012</td>\n",
       "      <td>734464.36</td>\n",
       "      <td>0</td>\n",
       "      <td>54.47</td>\n",
       "      <td>4.000</td>\n",
       "      <td>192.327265</td>\n",
       "      <td>8.667</td>\n",
       "    </tr>\n",
       "    <tr>\n",
       "      <th>6433</th>\n",
       "      <td>45</td>\n",
       "      <td>19-10-2012</td>\n",
       "      <td>718125.53</td>\n",
       "      <td>0</td>\n",
       "      <td>56.47</td>\n",
       "      <td>3.969</td>\n",
       "      <td>192.330854</td>\n",
       "      <td>8.667</td>\n",
       "    </tr>\n",
       "    <tr>\n",
       "      <th>6434</th>\n",
       "      <td>45</td>\n",
       "      <td>26-10-2012</td>\n",
       "      <td>760281.43</td>\n",
       "      <td>0</td>\n",
       "      <td>58.85</td>\n",
       "      <td>3.882</td>\n",
       "      <td>192.308899</td>\n",
       "      <td>8.667</td>\n",
       "    </tr>\n",
       "  </tbody>\n",
       "</table>\n",
       "<p>6435 rows × 8 columns</p>\n",
       "</div>"
      ],
      "text/plain": [
       "      Store        Date  Weekly_Sales  Holiday_Flag  Temperature  Fuel_Price  \\\n",
       "0         1  05-02-2010    1643690.90             0        42.31       2.572   \n",
       "1         1  12-02-2010    1641957.44             1        38.51       2.548   \n",
       "2         1  19-02-2010    1611968.17             0        39.93       2.514   \n",
       "3         1  26-02-2010    1409727.59             0        46.63       2.561   \n",
       "4         1  05-03-2010    1554806.68             0        46.50       2.625   \n",
       "...     ...         ...           ...           ...          ...         ...   \n",
       "6430     45  28-09-2012     713173.95             0        64.88       3.997   \n",
       "6431     45  05-10-2012     733455.07             0        64.89       3.985   \n",
       "6432     45  12-10-2012     734464.36             0        54.47       4.000   \n",
       "6433     45  19-10-2012     718125.53             0        56.47       3.969   \n",
       "6434     45  26-10-2012     760281.43             0        58.85       3.882   \n",
       "\n",
       "             CPI  Unemployment  \n",
       "0     211.096358         8.106  \n",
       "1     211.242170         8.106  \n",
       "2     211.289143         8.106  \n",
       "3     211.319643         8.106  \n",
       "4     211.350143         8.106  \n",
       "...          ...           ...  \n",
       "6430  192.013558         8.684  \n",
       "6431  192.170412         8.667  \n",
       "6432  192.327265         8.667  \n",
       "6433  192.330854         8.667  \n",
       "6434  192.308899         8.667  \n",
       "\n",
       "[6435 rows x 8 columns]"
      ]
     },
     "execution_count": 2,
     "metadata": {},
     "output_type": "execute_result"
    }
   ],
   "source": [
    "# Load dataset\n",
    "data=pd.read_csv('Walmart_Store_sales.csv')\n",
    "data"
   ]
  },
  {
   "cell_type": "markdown",
   "id": "7f354543-027f-46a9-9455-239e51f5d12f",
   "metadata": {},
   "source": [
    "### Data Preprocessing"
   ]
  },
  {
   "cell_type": "code",
   "execution_count": 3,
   "id": "1cfcc1df-f214-4419-b642-d757af558488",
   "metadata": {},
   "outputs": [
    {
     "data": {
      "text/html": [
       "<div>\n",
       "<style scoped>\n",
       "    .dataframe tbody tr th:only-of-type {\n",
       "        vertical-align: middle;\n",
       "    }\n",
       "\n",
       "    .dataframe tbody tr th {\n",
       "        vertical-align: top;\n",
       "    }\n",
       "\n",
       "    .dataframe thead th {\n",
       "        text-align: right;\n",
       "    }\n",
       "</style>\n",
       "<table border=\"1\" class=\"dataframe\">\n",
       "  <thead>\n",
       "    <tr style=\"text-align: right;\">\n",
       "      <th></th>\n",
       "      <th>Store</th>\n",
       "      <th>Date</th>\n",
       "      <th>Weekly_Sales</th>\n",
       "      <th>Holiday_Flag</th>\n",
       "      <th>Temperature</th>\n",
       "      <th>Fuel_Price</th>\n",
       "      <th>CPI</th>\n",
       "      <th>Unemployment</th>\n",
       "    </tr>\n",
       "  </thead>\n",
       "  <tbody>\n",
       "    <tr>\n",
       "      <th>0</th>\n",
       "      <td>1</td>\n",
       "      <td>05-02-2010</td>\n",
       "      <td>1643690.90</td>\n",
       "      <td>0</td>\n",
       "      <td>42.31</td>\n",
       "      <td>2.572</td>\n",
       "      <td>211.096358</td>\n",
       "      <td>8.106</td>\n",
       "    </tr>\n",
       "    <tr>\n",
       "      <th>1</th>\n",
       "      <td>1</td>\n",
       "      <td>12-02-2010</td>\n",
       "      <td>1641957.44</td>\n",
       "      <td>1</td>\n",
       "      <td>38.51</td>\n",
       "      <td>2.548</td>\n",
       "      <td>211.242170</td>\n",
       "      <td>8.106</td>\n",
       "    </tr>\n",
       "    <tr>\n",
       "      <th>2</th>\n",
       "      <td>1</td>\n",
       "      <td>19-02-2010</td>\n",
       "      <td>1611968.17</td>\n",
       "      <td>0</td>\n",
       "      <td>39.93</td>\n",
       "      <td>2.514</td>\n",
       "      <td>211.289143</td>\n",
       "      <td>8.106</td>\n",
       "    </tr>\n",
       "    <tr>\n",
       "      <th>3</th>\n",
       "      <td>1</td>\n",
       "      <td>26-02-2010</td>\n",
       "      <td>1409727.59</td>\n",
       "      <td>0</td>\n",
       "      <td>46.63</td>\n",
       "      <td>2.561</td>\n",
       "      <td>211.319643</td>\n",
       "      <td>8.106</td>\n",
       "    </tr>\n",
       "    <tr>\n",
       "      <th>4</th>\n",
       "      <td>1</td>\n",
       "      <td>05-03-2010</td>\n",
       "      <td>1554806.68</td>\n",
       "      <td>0</td>\n",
       "      <td>46.50</td>\n",
       "      <td>2.625</td>\n",
       "      <td>211.350143</td>\n",
       "      <td>8.106</td>\n",
       "    </tr>\n",
       "  </tbody>\n",
       "</table>\n",
       "</div>"
      ],
      "text/plain": [
       "   Store        Date  Weekly_Sales  Holiday_Flag  Temperature  Fuel_Price  \\\n",
       "0      1  05-02-2010    1643690.90             0        42.31       2.572   \n",
       "1      1  12-02-2010    1641957.44             1        38.51       2.548   \n",
       "2      1  19-02-2010    1611968.17             0        39.93       2.514   \n",
       "3      1  26-02-2010    1409727.59             0        46.63       2.561   \n",
       "4      1  05-03-2010    1554806.68             0        46.50       2.625   \n",
       "\n",
       "          CPI  Unemployment  \n",
       "0  211.096358         8.106  \n",
       "1  211.242170         8.106  \n",
       "2  211.289143         8.106  \n",
       "3  211.319643         8.106  \n",
       "4  211.350143         8.106  "
      ]
     },
     "execution_count": 3,
     "metadata": {},
     "output_type": "execute_result"
    }
   ],
   "source": [
    "data.head()"
   ]
  },
  {
   "cell_type": "code",
   "execution_count": 4,
   "id": "6a94e5e1-0f0f-44c1-afef-937f517434fd",
   "metadata": {},
   "outputs": [
    {
     "data": {
      "text/plain": [
       "Store           0\n",
       "Date            0\n",
       "Weekly_Sales    0\n",
       "Holiday_Flag    0\n",
       "Temperature     0\n",
       "Fuel_Price      0\n",
       "CPI             0\n",
       "Unemployment    0\n",
       "dtype: int64"
      ]
     },
     "execution_count": 4,
     "metadata": {},
     "output_type": "execute_result"
    }
   ],
   "source": [
    "# checking for missing values\n",
    "data.isna().sum()"
   ]
  },
  {
   "cell_type": "code",
   "execution_count": 5,
   "id": "61dd4147-05c4-4c5a-93e4-b9695b1f60c3",
   "metadata": {},
   "outputs": [
    {
     "data": {
      "text/plain": [
       "(6435, 8)"
      ]
     },
     "execution_count": 5,
     "metadata": {},
     "output_type": "execute_result"
    }
   ],
   "source": [
    "data.shape"
   ]
  },
  {
   "cell_type": "code",
   "execution_count": 6,
   "id": "3f71c157-47e9-485a-841f-0e8a8ede5486",
   "metadata": {},
   "outputs": [
    {
     "name": "stdout",
     "output_type": "stream",
     "text": [
      "<class 'pandas.core.frame.DataFrame'>\n",
      "RangeIndex: 6435 entries, 0 to 6434\n",
      "Data columns (total 8 columns):\n",
      " #   Column        Non-Null Count  Dtype  \n",
      "---  ------        --------------  -----  \n",
      " 0   Store         6435 non-null   int64  \n",
      " 1   Date          6435 non-null   object \n",
      " 2   Weekly_Sales  6435 non-null   float64\n",
      " 3   Holiday_Flag  6435 non-null   int64  \n",
      " 4   Temperature   6435 non-null   float64\n",
      " 5   Fuel_Price    6435 non-null   float64\n",
      " 6   CPI           6435 non-null   float64\n",
      " 7   Unemployment  6435 non-null   float64\n",
      "dtypes: float64(5), int64(2), object(1)\n",
      "memory usage: 402.3+ KB\n"
     ]
    }
   ],
   "source": [
    "# show dataset information\n",
    "data.info()"
   ]
  },
  {
   "cell_type": "code",
   "execution_count": 7,
   "id": "4c8d42d6-d6e5-487e-a7c6-f4c697e6b1d5",
   "metadata": {},
   "outputs": [
    {
     "name": "stdout",
     "output_type": "stream",
     "text": [
      "<class 'pandas.core.frame.DataFrame'>\n",
      "RangeIndex: 6435 entries, 0 to 6434\n",
      "Data columns (total 8 columns):\n",
      " #   Column        Non-Null Count  Dtype         \n",
      "---  ------        --------------  -----         \n",
      " 0   Store         6435 non-null   int64         \n",
      " 1   Date          6435 non-null   datetime64[ns]\n",
      " 2   Weekly_Sales  6435 non-null   float64       \n",
      " 3   Holiday_Flag  6435 non-null   int64         \n",
      " 4   Temperature   6435 non-null   float64       \n",
      " 5   Fuel_Price    6435 non-null   float64       \n",
      " 6   CPI           6435 non-null   float64       \n",
      " 7   Unemployment  6435 non-null   float64       \n",
      "dtypes: datetime64[ns](1), float64(5), int64(2)\n",
      "memory usage: 402.3 KB\n"
     ]
    }
   ],
   "source": [
    "# Convert date to datetime format and show dataset information\n",
    "data['Date']=pd.to_datetime(data['Date'])\n",
    "data.info()"
   ]
  },
  {
   "cell_type": "markdown",
   "id": "857af530-a6f7-4f6e-9012-7e536acd5dcd",
   "metadata": {},
   "source": [
    "### Analysis Tasks\n",
    "\n",
    "### A) Basic Statistical tasks:"
   ]
  },
  {
   "cell_type": "markdown",
   "id": "a85e6aa0-48e1-4957-8021-15bf5834dbf0",
   "metadata": {},
   "source": [
    "### 1.Which store has maximum sales?\n",
    "##### In order to find out the maximum sales, I have created a new variable called ‘total_sales’. Then groupby stores and find the sum of the weekly sales of each store. This will give me the maximum sales."
   ]
  },
  {
   "cell_type": "code",
   "execution_count": 8,
   "id": "8020dcc6-162b-41d0-b728-a871d6f7efcf",
   "metadata": {},
   "outputs": [],
   "source": [
    "total_sales=data.groupby('Store')['Weekly_Sales'].sum().round().sort_values(ascending=0)"
   ]
  },
  {
   "cell_type": "code",
   "execution_count": 9,
   "id": "86e23f18-664a-4cdb-8f22-1545e44b8b66",
   "metadata": {},
   "outputs": [
    {
     "data": {
      "text/plain": [
       "Store\n",
       "20    301397792.0\n",
       "4     299543953.0\n",
       "14    288999911.0\n",
       "13    286517704.0\n",
       "2     275382441.0\n",
       "10    271617714.0\n",
       "27    253855917.0\n",
       "6     223756131.0\n",
       "1     222402809.0\n",
       "39    207445542.0\n",
       "19    206634862.0\n",
       "31    199613906.0\n",
       "23    198750618.0\n",
       "24    194016021.0\n",
       "11    193962787.0\n",
       "28    189263681.0\n",
       "41    181341935.0\n",
       "32    166819246.0\n",
       "18    155114734.0\n",
       "22    147075649.0\n",
       "12    144287230.0\n",
       "26    143416394.0\n",
       "34    138249763.0\n",
       "40    137870310.0\n",
       "35    131520672.0\n",
       "8     129951181.0\n",
       "17    127782139.0\n",
       "45    112395341.0\n",
       "21    108117879.0\n",
       "25    101061179.0\n",
       "43     90565435.0\n",
       "15     89133684.0\n",
       "7      81598275.0\n",
       "42     79565752.0\n",
       "9      77789219.0\n",
       "29     77141554.0\n",
       "16     74252425.0\n",
       "37     74202740.0\n",
       "30     62716885.0\n",
       "3      57586735.0\n",
       "38     55159626.0\n",
       "36     53412215.0\n",
       "5      45475689.0\n",
       "44     43293088.0\n",
       "33     37160222.0\n",
       "Name: Weekly_Sales, dtype: float64"
      ]
     },
     "execution_count": 9,
     "metadata": {},
     "output_type": "execute_result"
    }
   ],
   "source": [
    "total_sales"
   ]
  },
  {
   "cell_type": "code",
   "execution_count": 10,
   "id": "4bd0fc79-de38-4c98-af6e-1386b0087111",
   "metadata": {},
   "outputs": [
    {
     "data": {
      "text/html": [
       "<div>\n",
       "<style scoped>\n",
       "    .dataframe tbody tr th:only-of-type {\n",
       "        vertical-align: middle;\n",
       "    }\n",
       "\n",
       "    .dataframe tbody tr th {\n",
       "        vertical-align: top;\n",
       "    }\n",
       "\n",
       "    .dataframe thead th {\n",
       "        text-align: right;\n",
       "    }\n",
       "</style>\n",
       "<table border=\"1\" class=\"dataframe\">\n",
       "  <thead>\n",
       "    <tr style=\"text-align: right;\">\n",
       "      <th></th>\n",
       "      <th>Weekly_Sales</th>\n",
       "    </tr>\n",
       "    <tr>\n",
       "      <th>Store</th>\n",
       "      <th></th>\n",
       "    </tr>\n",
       "  </thead>\n",
       "  <tbody>\n",
       "    <tr>\n",
       "      <th>20</th>\n",
       "      <td>301397792.0</td>\n",
       "    </tr>\n",
       "    <tr>\n",
       "      <th>4</th>\n",
       "      <td>299543953.0</td>\n",
       "    </tr>\n",
       "    <tr>\n",
       "      <th>14</th>\n",
       "      <td>288999911.0</td>\n",
       "    </tr>\n",
       "    <tr>\n",
       "      <th>13</th>\n",
       "      <td>286517704.0</td>\n",
       "    </tr>\n",
       "    <tr>\n",
       "      <th>2</th>\n",
       "      <td>275382441.0</td>\n",
       "    </tr>\n",
       "  </tbody>\n",
       "</table>\n",
       "</div>"
      ],
      "text/plain": [
       "       Weekly_Sales\n",
       "Store              \n",
       "20      301397792.0\n",
       "4       299543953.0\n",
       "14      288999911.0\n",
       "13      286517704.0\n",
       "2       275382441.0"
      ]
     },
     "execution_count": 10,
     "metadata": {},
     "output_type": "execute_result"
    }
   ],
   "source": [
    "# Maximum Sales\n",
    "\n",
    "pd.DataFrame(total_sales).head()"
   ]
  },
  {
   "cell_type": "code",
   "execution_count": 11,
   "id": "c69797f9-589b-468b-9f46-fc26fd8dc22d",
   "metadata": {},
   "outputs": [
    {
     "data": {
      "text/html": [
       "<div>\n",
       "<style scoped>\n",
       "    .dataframe tbody tr th:only-of-type {\n",
       "        vertical-align: middle;\n",
       "    }\n",
       "\n",
       "    .dataframe tbody tr th {\n",
       "        vertical-align: top;\n",
       "    }\n",
       "\n",
       "    .dataframe thead th {\n",
       "        text-align: right;\n",
       "    }\n",
       "</style>\n",
       "<table border=\"1\" class=\"dataframe\">\n",
       "  <thead>\n",
       "    <tr style=\"text-align: right;\">\n",
       "      <th></th>\n",
       "      <th>Weekly_Sales</th>\n",
       "    </tr>\n",
       "    <tr>\n",
       "      <th>Store</th>\n",
       "      <th></th>\n",
       "    </tr>\n",
       "  </thead>\n",
       "  <tbody>\n",
       "    <tr>\n",
       "      <th>38</th>\n",
       "      <td>55159626.0</td>\n",
       "    </tr>\n",
       "    <tr>\n",
       "      <th>36</th>\n",
       "      <td>53412215.0</td>\n",
       "    </tr>\n",
       "    <tr>\n",
       "      <th>5</th>\n",
       "      <td>45475689.0</td>\n",
       "    </tr>\n",
       "    <tr>\n",
       "      <th>44</th>\n",
       "      <td>43293088.0</td>\n",
       "    </tr>\n",
       "    <tr>\n",
       "      <th>33</th>\n",
       "      <td>37160222.0</td>\n",
       "    </tr>\n",
       "  </tbody>\n",
       "</table>\n",
       "</div>"
      ],
      "text/plain": [
       "       Weekly_Sales\n",
       "Store              \n",
       "38       55159626.0\n",
       "36       53412215.0\n",
       "5        45475689.0\n",
       "44       43293088.0\n",
       "33       37160222.0"
      ]
     },
     "execution_count": 11,
     "metadata": {},
     "output_type": "execute_result"
    }
   ],
   "source": [
    "# Minimum Sales\n",
    "\n",
    "pd.DataFrame(total_sales).tail()"
   ]
  },
  {
   "cell_type": "markdown",
   "id": "aa4a0ab6-509f-49d7-b5c3-85b02933c2b8",
   "metadata": {},
   "source": [
    "##### Store-20 has the maximum sales of $301397792.0\n",
    "\n",
    "##### Store-33 has the minimum sales of $37160222.0"
   ]
  },
  {
   "cell_type": "markdown",
   "id": "76c118d3-59d4-423f-8ef5-06f34372f14f",
   "metadata": {},
   "source": [
    "### 2.Which store has maximum standard deviation i.e., the sales vary a lot. Also, find out the coefficient of mean to standard deviation\n",
    "##### To find out the maximum standard deviation, create a new variable and then group it by stores and find the standard deviation."
   ]
  },
  {
   "cell_type": "markdown",
   "id": "d28f33d4-bfef-4b38-a7f2-5c335db206f1",
   "metadata": {},
   "source": [
    "####                                         Maximum standard deviation"
   ]
  },
  {
   "cell_type": "code",
   "execution_count": 12,
   "id": "162bea7e-ca9b-469e-a5c8-731acbc2a6aa",
   "metadata": {},
   "outputs": [],
   "source": [
    "std_sales = data.groupby('Store')['Weekly_Sales'].std().round(3).sort_values(ascending=0)"
   ]
  },
  {
   "cell_type": "code",
   "execution_count": 13,
   "id": "937cb15c-d4ac-4207-adaf-d297b69fb511",
   "metadata": {},
   "outputs": [
    {
     "data": {
      "text/html": [
       "<div>\n",
       "<style scoped>\n",
       "    .dataframe tbody tr th:only-of-type {\n",
       "        vertical-align: middle;\n",
       "    }\n",
       "\n",
       "    .dataframe tbody tr th {\n",
       "        vertical-align: top;\n",
       "    }\n",
       "\n",
       "    .dataframe thead th {\n",
       "        text-align: right;\n",
       "    }\n",
       "</style>\n",
       "<table border=\"1\" class=\"dataframe\">\n",
       "  <thead>\n",
       "    <tr style=\"text-align: right;\">\n",
       "      <th></th>\n",
       "      <th>Weekly_Sales</th>\n",
       "    </tr>\n",
       "    <tr>\n",
       "      <th>Store</th>\n",
       "      <th></th>\n",
       "    </tr>\n",
       "  </thead>\n",
       "  <tbody>\n",
       "    <tr>\n",
       "      <th>14</th>\n",
       "      <td>317569.949</td>\n",
       "    </tr>\n",
       "    <tr>\n",
       "      <th>10</th>\n",
       "      <td>302262.063</td>\n",
       "    </tr>\n",
       "    <tr>\n",
       "      <th>20</th>\n",
       "      <td>275900.563</td>\n",
       "    </tr>\n",
       "    <tr>\n",
       "      <th>4</th>\n",
       "      <td>266201.442</td>\n",
       "    </tr>\n",
       "    <tr>\n",
       "      <th>13</th>\n",
       "      <td>265506.996</td>\n",
       "    </tr>\n",
       "  </tbody>\n",
       "</table>\n",
       "</div>"
      ],
      "text/plain": [
       "       Weekly_Sales\n",
       "Store              \n",
       "14       317569.949\n",
       "10       302262.063\n",
       "20       275900.563\n",
       "4        266201.442\n",
       "13       265506.996"
      ]
     },
     "execution_count": 13,
     "metadata": {},
     "output_type": "execute_result"
    }
   ],
   "source": [
    "pd.DataFrame(std_sales).head()"
   ]
  },
  {
   "cell_type": "markdown",
   "id": "1bb5429b-3301-448e-8af1-e16f4c20c4cf",
   "metadata": {},
   "source": [
    "##### Store - 14 has a maximum standard deviation = $317569.949"
   ]
  },
  {
   "cell_type": "markdown",
   "id": "5a078645-5eec-4777-babb-42faa0925c64",
   "metadata": {},
   "source": [
    "#### Coefficient of mean to standard deviation"
   ]
  },
  {
   "cell_type": "code",
   "execution_count": 14,
   "id": "fa46d5ce-46b3-4dd8-aec2-b1f905480a01",
   "metadata": {},
   "outputs": [],
   "source": [
    "store14 = data[data.Store == 14].Weekly_Sales"
   ]
  },
  {
   "cell_type": "code",
   "execution_count": 15,
   "id": "d0f71ef7-f1c2-4976-b24e-b0f0d0f3e0c9",
   "metadata": {},
   "outputs": [
    {
     "data": {
      "text/plain": [
       "1859    2623469.95\n",
       "1860    1704218.84\n",
       "1861    2204556.70\n",
       "1862    2095591.63\n",
       "1863    2237544.75\n",
       "           ...    \n",
       "1997    1522512.20\n",
       "1998    1687592.16\n",
       "1999    1639585.61\n",
       "2000    1590274.72\n",
       "2001    1704357.62\n",
       "Name: Weekly_Sales, Length: 143, dtype: float64"
      ]
     },
     "execution_count": 15,
     "metadata": {},
     "output_type": "execute_result"
    }
   ],
   "source": [
    "store14"
   ]
  },
  {
   "cell_type": "code",
   "execution_count": 16,
   "id": "4b841d33-b16a-490c-afcf-18deeab3a347",
   "metadata": {},
   "outputs": [
    {
     "data": {
      "text/plain": [
       "15.71"
      ]
     },
     "execution_count": 16,
     "metadata": {},
     "output_type": "execute_result"
    }
   ],
   "source": [
    "Coefficient_of_variantion=store14.std()/store14.mean()*100\n",
    "Coefficient_of_variantion.round(2)"
   ]
  },
  {
   "cell_type": "markdown",
   "id": "779df503-91ac-49fd-8c58-91f588343682",
   "metadata": {},
   "source": [
    "##### Coefficient of mean to Standard Deviation = 15.71%"
   ]
  },
  {
   "cell_type": "markdown",
   "id": "08478c88-9081-4cfb-922b-fc064f24d9fe",
   "metadata": {},
   "source": [
    "##### Store-14 has a maximum standard deviation = $317,569.949 and the Coefficient of Mean to Standard Deviation = 15.71%"
   ]
  },
  {
   "cell_type": "markdown",
   "id": "1f70a000-e68d-434d-8bf1-a2139ea6f7f9",
   "metadata": {},
   "source": [
    "### 3.Which store/s has good quarterly growth rate in Q3’2012\n",
    "##### First, we will find the Q2 sales and then Q3 sales, take out the difference and then find the growth rate."
   ]
  },
  {
   "cell_type": "code",
   "execution_count": 17,
   "id": "521b0e6e-d782-4505-a91d-9ccadba72a3d",
   "metadata": {},
   "outputs": [],
   "source": [
    "q2_sales= data[((data['Date']>=\"2012-04-01\")&(data['Date']<=\"2012-06-30\"))].groupby('Store')['Weekly_Sales'].sum().round()\n",
    "q3_sales= data[((data['Date']>=\"2012-07-01\")&(data['Date']<=\"2012-09-30\"))].groupby('Store')['Weekly_Sales'].sum().round()"
   ]
  },
  {
   "cell_type": "code",
   "execution_count": 18,
   "id": "7fa0b725-ed4a-40ca-a453-488eb4448fe9",
   "metadata": {},
   "outputs": [
    {
     "data": {
      "text/html": [
       "<div>\n",
       "<style scoped>\n",
       "    .dataframe tbody tr th:only-of-type {\n",
       "        vertical-align: middle;\n",
       "    }\n",
       "\n",
       "    .dataframe tbody tr th {\n",
       "        vertical-align: top;\n",
       "    }\n",
       "\n",
       "    .dataframe thead th {\n",
       "        text-align: right;\n",
       "    }\n",
       "</style>\n",
       "<table border=\"1\" class=\"dataframe\">\n",
       "  <thead>\n",
       "    <tr style=\"text-align: right;\">\n",
       "      <th></th>\n",
       "      <th>Q2 Sales</th>\n",
       "      <th>Q3 Sales</th>\n",
       "      <th>Difference</th>\n",
       "      <th>Growth Rate</th>\n",
       "    </tr>\n",
       "    <tr>\n",
       "      <th>Store</th>\n",
       "      <th></th>\n",
       "      <th></th>\n",
       "      <th></th>\n",
       "      <th></th>\n",
       "    </tr>\n",
       "  </thead>\n",
       "  <tbody>\n",
       "    <tr>\n",
       "      <th>16</th>\n",
       "      <td>6626133.0</td>\n",
       "      <td>6441311.0</td>\n",
       "      <td>-184822.0</td>\n",
       "      <td>-2.869323</td>\n",
       "    </tr>\n",
       "    <tr>\n",
       "      <th>7</th>\n",
       "      <td>7613594.0</td>\n",
       "      <td>7322394.0</td>\n",
       "      <td>-291200.0</td>\n",
       "      <td>-3.976841</td>\n",
       "    </tr>\n",
       "    <tr>\n",
       "      <th>35</th>\n",
       "      <td>10753571.0</td>\n",
       "      <td>10252123.0</td>\n",
       "      <td>-501448.0</td>\n",
       "      <td>-4.891163</td>\n",
       "    </tr>\n",
       "    <tr>\n",
       "      <th>26</th>\n",
       "      <td>13218290.0</td>\n",
       "      <td>12417575.0</td>\n",
       "      <td>-800715.0</td>\n",
       "      <td>-6.448240</td>\n",
       "    </tr>\n",
       "    <tr>\n",
       "      <th>39</th>\n",
       "      <td>20191586.0</td>\n",
       "      <td>18899955.0</td>\n",
       "      <td>-1291631.0</td>\n",
       "      <td>-6.834043</td>\n",
       "    </tr>\n",
       "  </tbody>\n",
       "</table>\n",
       "</div>"
      ],
      "text/plain": [
       "         Q2 Sales    Q3 Sales  Difference  Growth Rate\n",
       "Store                                                 \n",
       "16      6626133.0   6441311.0   -184822.0    -2.869323\n",
       "7       7613594.0   7322394.0   -291200.0    -3.976841\n",
       "35     10753571.0  10252123.0   -501448.0    -4.891163\n",
       "26     13218290.0  12417575.0   -800715.0    -6.448240\n",
       "39     20191586.0  18899955.0  -1291631.0    -6.834043"
      ]
     },
     "execution_count": 18,
     "metadata": {},
     "output_type": "execute_result"
    }
   ],
   "source": [
    "pd.DataFrame({'Q2 Sales':q2_sales,\n",
    "              'Q3 Sales':q3_sales,\n",
    "              'Difference':(q3_sales-q2_sales),\n",
    "              'Growth Rate':(q3_sales-q2_sales)/q3_sales*100}).sort_values(by=['Growth Rate'],ascending=0).head()"
   ]
  },
  {
   "cell_type": "markdown",
   "id": "338d6b17-19e4-46a5-9508-da767d1a94bd",
   "metadata": {},
   "source": [
    "##### Q2 sales has always higher than Q3 sales so No store shown quaterly growth rate in Q3'2012, although store 16 has maximum growth rate as compared to others."
   ]
  },
  {
   "cell_type": "markdown",
   "id": "6c48127e-01f4-4fa9-ba15-ddbff6494d95",
   "metadata": {},
   "source": [
    "### 4.Some holidays have a negative impact on sales. Find out holidays which have higher sales than the mean sales in non-holiday season for all stores together?\n",
    "##### We have 4 Holiday Events, \n",
    "##### (1) Super Bowl: 12-Feb-10, 11-Feb-11, 10-Feb-12, 8-Feb-13, \n",
    "##### (2) Labour Day: 10-Sep-10, 9-Sep-11, 7-Sep-12, 6-Sep-13, \n",
    "##### (3) Thanksgiving: 26-Nov-10, 25-Nov-11, 23-Nov-12, 29-Nov-13, \n",
    "##### (4) Christmas: 31-Dec-10, 30-Dec-11, 28-Dec-12, 27-Dec-13.\n",
    "##### Now calculate the holiday event sales of each of the events and then find the non-holiday sales. "
   ]
  },
  {
   "cell_type": "code",
   "execution_count": 19,
   "id": "066c341f-f5fb-47e6-ae4a-452ccf822568",
   "metadata": {},
   "outputs": [],
   "source": [
    "#Holiday Events:\n",
    "\n",
    "Super_Bowl = ['12-02-10', '11-02-11', '10-02-12', '8-02-13']\n",
    "Labour_Day = ['10-09-10', '9-09-11', '7-09-12', '6-09-13']\n",
    "Thanksgiving = ['26-11-10', '25-11-11', '23-11-12', '29-11-13']\n",
    "Christmas = ['31-12-10', '30-12-11', '28-12-12', '27-12-13']"
   ]
  },
  {
   "cell_type": "code",
   "execution_count": 20,
   "id": "afe47b7b-194f-475b-a79d-217b9e2afe9b",
   "metadata": {},
   "outputs": [],
   "source": [
    "# Calculating holiday events sales\n",
    "Super_Bowl_sales = data.loc[data.Date.isin(Super_Bowl)]['Weekly_Sales'].mean().round(2)\n",
    "Labour_Day_sales = data.loc[data.Date.isin(Labour_Day)]['Weekly_Sales'].mean().round(2)\n",
    "Thanksgiving_sales = data.loc[data.Date.isin(Thanksgiving)]['Weekly_Sales'].mean().round(2)\n",
    "Christmas_sales = data.loc[data.Date.isin(Christmas)]['Weekly_Sales'].mean().round(2)"
   ]
  },
  {
   "cell_type": "code",
   "execution_count": 21,
   "id": "578ea3dd-450f-44fa-a1d5-915c3935b529",
   "metadata": {},
   "outputs": [
    {
     "data": {
      "text/plain": [
       "(1079127.99, 1042427.29, 1471273.43, 960833.11)"
      ]
     },
     "execution_count": 21,
     "metadata": {},
     "output_type": "execute_result"
    }
   ],
   "source": [
    "Super_Bowl_sales, Labour_Day_sales, Thanksgiving_sales, Christmas_sales"
   ]
  },
  {
   "cell_type": "code",
   "execution_count": 22,
   "id": "abd228cf-a80e-45d4-aa59-bd74d4dd4fc5",
   "metadata": {},
   "outputs": [
    {
     "data": {
      "text/plain": [
       "1041256.38"
      ]
     },
     "execution_count": 22,
     "metadata": {},
     "output_type": "execute_result"
    }
   ],
   "source": [
    "#Non-holiday Sales:\n",
    "non_holiday_sales = data[(data['Holiday_Flag']== 0)]['Weekly_Sales'].mean().round(2)\n",
    "non_holiday_sales"
   ]
  },
  {
   "cell_type": "code",
   "execution_count": 23,
   "id": "4d1b2368-4216-4543-8732-e29f0a6ff3a7",
   "metadata": {},
   "outputs": [
    {
     "data": {
      "text/html": [
       "<div>\n",
       "<style scoped>\n",
       "    .dataframe tbody tr th:only-of-type {\n",
       "        vertical-align: middle;\n",
       "    }\n",
       "\n",
       "    .dataframe tbody tr th {\n",
       "        vertical-align: top;\n",
       "    }\n",
       "\n",
       "    .dataframe thead th {\n",
       "        text-align: right;\n",
       "    }\n",
       "</style>\n",
       "<table border=\"1\" class=\"dataframe\">\n",
       "  <thead>\n",
       "    <tr style=\"text-align: right;\">\n",
       "      <th></th>\n",
       "      <th>0</th>\n",
       "    </tr>\n",
       "  </thead>\n",
       "  <tbody>\n",
       "    <tr>\n",
       "      <th>Super Bowl Sales</th>\n",
       "      <td>1079127.99</td>\n",
       "    </tr>\n",
       "    <tr>\n",
       "      <th>Labour Day Sales</th>\n",
       "      <td>1042427.29</td>\n",
       "    </tr>\n",
       "    <tr>\n",
       "      <th>Thanksgiving Sales</th>\n",
       "      <td>1471273.43</td>\n",
       "    </tr>\n",
       "    <tr>\n",
       "      <th>Christmas Sales</th>\n",
       "      <td>960833.11</td>\n",
       "    </tr>\n",
       "    <tr>\n",
       "      <th>Non Holiday Sales</th>\n",
       "      <td>1041256.38</td>\n",
       "    </tr>\n",
       "  </tbody>\n",
       "</table>\n",
       "</div>"
      ],
      "text/plain": [
       "                             0\n",
       "Super Bowl Sales    1079127.99\n",
       "Labour Day Sales    1042427.29\n",
       "Thanksgiving Sales  1471273.43\n",
       "Christmas Sales      960833.11\n",
       "Non Holiday Sales   1041256.38"
      ]
     },
     "execution_count": 23,
     "metadata": {},
     "output_type": "execute_result"
    }
   ],
   "source": [
    "result = pd.DataFrame([{'Super Bowl Sales':Super_Bowl_sales,\n",
    "              'Labour Day Sales':Labour_Day_sales,\n",
    "              'Thanksgiving Sales':Thanksgiving_sales,\n",
    "              'Christmas Sales':Christmas_sales,\n",
    "              'Non Holiday Sales':non_holiday_sales}]).T\n",
    "\n",
    "result"
   ]
  },
  {
   "cell_type": "markdown",
   "id": "65c2d48e-b131-4537-a204-4680382e6c19",
   "metadata": {},
   "source": [
    "##### Here Thanksgiving has the highest sales (1,471,273.43) than non-holiday sales (1,041,256.38)."
   ]
  },
  {
   "cell_type": "markdown",
   "id": "289d78d7-2f74-4eb9-96c8-603889ee5535",
   "metadata": {},
   "source": [
    "### 5.Provide a monthly and semester view of sales in units and give insights"
   ]
  },
  {
   "cell_type": "markdown",
   "id": "b4ad54fe-8d7a-405e-b08a-e571157d2c1f",
   "metadata": {},
   "source": [
    "##### Plotting a month-wise bar graph for weekly sales to get an idea about which month has the maximum sales and then will plot  a year-wise bar graph for weekly sales to know which year has the highest weekly sales. Also will plot the semester-wise bar graph for weekly sales to get some insights about the semester's weekly sales."
   ]
  },
  {
   "cell_type": "code",
   "execution_count": 24,
   "id": "8e97765d-44ed-4bbb-810e-f94cef9a8e76",
   "metadata": {},
   "outputs": [],
   "source": [
    "data['Day'] = pd.DatetimeIndex(data['Date']).day\n",
    "data['Month'] = pd.DatetimeIndex(data['Date']).month\n",
    "data['Year'] = pd.DatetimeIndex(data['Date']).year"
   ]
  },
  {
   "cell_type": "code",
   "execution_count": 25,
   "id": "a5473cce-138d-4f62-891e-c1aca0d79d10",
   "metadata": {},
   "outputs": [
    {
     "data": {
      "text/html": [
       "<div>\n",
       "<style scoped>\n",
       "    .dataframe tbody tr th:only-of-type {\n",
       "        vertical-align: middle;\n",
       "    }\n",
       "\n",
       "    .dataframe tbody tr th {\n",
       "        vertical-align: top;\n",
       "    }\n",
       "\n",
       "    .dataframe thead th {\n",
       "        text-align: right;\n",
       "    }\n",
       "</style>\n",
       "<table border=\"1\" class=\"dataframe\">\n",
       "  <thead>\n",
       "    <tr style=\"text-align: right;\">\n",
       "      <th></th>\n",
       "      <th>Store</th>\n",
       "      <th>Date</th>\n",
       "      <th>Weekly_Sales</th>\n",
       "      <th>Holiday_Flag</th>\n",
       "      <th>Temperature</th>\n",
       "      <th>Fuel_Price</th>\n",
       "      <th>CPI</th>\n",
       "      <th>Unemployment</th>\n",
       "      <th>Day</th>\n",
       "      <th>Month</th>\n",
       "      <th>Year</th>\n",
       "    </tr>\n",
       "  </thead>\n",
       "  <tbody>\n",
       "    <tr>\n",
       "      <th>0</th>\n",
       "      <td>1</td>\n",
       "      <td>2010-05-02</td>\n",
       "      <td>1643690.90</td>\n",
       "      <td>0</td>\n",
       "      <td>42.31</td>\n",
       "      <td>2.572</td>\n",
       "      <td>211.096358</td>\n",
       "      <td>8.106</td>\n",
       "      <td>2</td>\n",
       "      <td>5</td>\n",
       "      <td>2010</td>\n",
       "    </tr>\n",
       "    <tr>\n",
       "      <th>1</th>\n",
       "      <td>1</td>\n",
       "      <td>2010-12-02</td>\n",
       "      <td>1641957.44</td>\n",
       "      <td>1</td>\n",
       "      <td>38.51</td>\n",
       "      <td>2.548</td>\n",
       "      <td>211.242170</td>\n",
       "      <td>8.106</td>\n",
       "      <td>2</td>\n",
       "      <td>12</td>\n",
       "      <td>2010</td>\n",
       "    </tr>\n",
       "    <tr>\n",
       "      <th>2</th>\n",
       "      <td>1</td>\n",
       "      <td>2010-02-19</td>\n",
       "      <td>1611968.17</td>\n",
       "      <td>0</td>\n",
       "      <td>39.93</td>\n",
       "      <td>2.514</td>\n",
       "      <td>211.289143</td>\n",
       "      <td>8.106</td>\n",
       "      <td>19</td>\n",
       "      <td>2</td>\n",
       "      <td>2010</td>\n",
       "    </tr>\n",
       "    <tr>\n",
       "      <th>3</th>\n",
       "      <td>1</td>\n",
       "      <td>2010-02-26</td>\n",
       "      <td>1409727.59</td>\n",
       "      <td>0</td>\n",
       "      <td>46.63</td>\n",
       "      <td>2.561</td>\n",
       "      <td>211.319643</td>\n",
       "      <td>8.106</td>\n",
       "      <td>26</td>\n",
       "      <td>2</td>\n",
       "      <td>2010</td>\n",
       "    </tr>\n",
       "    <tr>\n",
       "      <th>4</th>\n",
       "      <td>1</td>\n",
       "      <td>2010-05-03</td>\n",
       "      <td>1554806.68</td>\n",
       "      <td>0</td>\n",
       "      <td>46.50</td>\n",
       "      <td>2.625</td>\n",
       "      <td>211.350143</td>\n",
       "      <td>8.106</td>\n",
       "      <td>3</td>\n",
       "      <td>5</td>\n",
       "      <td>2010</td>\n",
       "    </tr>\n",
       "  </tbody>\n",
       "</table>\n",
       "</div>"
      ],
      "text/plain": [
       "   Store       Date  Weekly_Sales  Holiday_Flag  Temperature  Fuel_Price  \\\n",
       "0      1 2010-05-02    1643690.90             0        42.31       2.572   \n",
       "1      1 2010-12-02    1641957.44             1        38.51       2.548   \n",
       "2      1 2010-02-19    1611968.17             0        39.93       2.514   \n",
       "3      1 2010-02-26    1409727.59             0        46.63       2.561   \n",
       "4      1 2010-05-03    1554806.68             0        46.50       2.625   \n",
       "\n",
       "          CPI  Unemployment  Day  Month  Year  \n",
       "0  211.096358         8.106    2      5  2010  \n",
       "1  211.242170         8.106    2     12  2010  \n",
       "2  211.289143         8.106   19      2  2010  \n",
       "3  211.319643         8.106   26      2  2010  \n",
       "4  211.350143         8.106    3      5  2010  "
      ]
     },
     "execution_count": 25,
     "metadata": {},
     "output_type": "execute_result"
    }
   ],
   "source": [
    "data.head()"
   ]
  },
  {
   "cell_type": "code",
   "execution_count": 26,
   "id": "4e28c0f6-390a-49dc-af3e-3f86e2f15c7e",
   "metadata": {},
   "outputs": [
    {
     "data": {
      "image/png": "[encoded data removed]",
      "text/plain": [
       "<Figure size 1120x560 with 1 Axes>"
      ]
     },
     "metadata": {
      "needs_background": "light"
     },
     "output_type": "display_data"
    }
   ],
   "source": [
    "# Sales for the Year - 2010\n",
    "\n",
    "plt.figure(figsize=(14,7), dpi=80)\n",
    "graph1 = sns.barplot(data=data, \n",
    "                     x=data[data.Year==2010]['Month'], \n",
    "                     y=data[data.Year==2010]['Weekly_Sales'])\n",
    "graph1.set(title='Monthwise Sales for 2010')\n",
    "\n",
    "for p in graph1.patches:\n",
    "    graph1.annotate(format(p.get_height(), '.2f'), (p.get_x() + p.get_width() / 2., p.get_height()), \n",
    "               ha = 'center', va = 'center', xytext = (0, 35), textcoords = 'offset points')"
   ]
  },
  {
   "cell_type": "code",
   "execution_count": 27,
   "id": "b811abed-b5fe-41d5-b801-53ba92537193",
   "metadata": {},
   "outputs": [
    {
     "data": {
      "image/png": "[encoded data removed]",
      "text/plain": [
       "<Figure size 1120x560 with 1 Axes>"
      ]
     },
     "metadata": {
      "needs_background": "light"
     },
     "output_type": "display_data"
    }
   ],
   "source": [
    "# Sales for the Year - 2011\n",
    "\n",
    "plt.figure(figsize=(14,7), dpi=80)\n",
    "graph1 = sns.barplot(data=data, x=data[data.Year==2011]['Month'], y=data[data.Year==2011]['Weekly_Sales'])\n",
    "graph1.set(title='Monthwise Sales for 2011')\n",
    "\n",
    "for p in graph1.patches:\n",
    "    graph1.annotate(format(p.get_height(), '.2f'), (p.get_x() + p.get_width() / 2., p.get_height()), \n",
    "               ha = 'center', va = 'center', xytext = (0, 35), textcoords = 'offset points')"
   ]
  },
  {
   "cell_type": "code",
   "execution_count": 28,
   "id": "20fe3a50-66a3-408f-a998-b94ce2e5cb02",
   "metadata": {},
   "outputs": [
    {
     "data": {
      "image/png": "[encoded data removed]",
      "text/plain": [
       "<Figure size 1120x560 with 1 Axes>"
      ]
     },
     "metadata": {
      "needs_background": "light"
     },
     "output_type": "display_data"
    }
   ],
   "source": [
    "# Sales for the Year - 2012\n",
    "\n",
    "plt.figure(figsize=(14,7), dpi=80)\n",
    "graph1 = sns.barplot(data=data, x=data[data.Year==2012]['Month'], y=data[data.Year==2012]['Weekly_Sales'])\n",
    "graph1.set(title='Monthwise Sales for 2012')\n",
    "\n",
    "for p in graph1.patches:\n",
    "    graph1.annotate(format(p.get_height(), '.2f'), (p.get_x() + p.get_width() / 2., p.get_height()), \n",
    "               ha = 'center', va = 'center', xytext = (0, 35), textcoords = 'offset points')"
   ]
  },
  {
   "cell_type": "code",
   "execution_count": 29,
   "id": "6aab7a26-f023-4ab7-af3c-33190a80485f",
   "metadata": {},
   "outputs": [
    {
     "data": {
      "text/plain": [
       "Text(0.5, 1.0, 'Monthwise Sales')"
      ]
     },
     "execution_count": 29,
     "metadata": {},
     "output_type": "execute_result"
    },
    {
     "data": {
      "image/png": "[encoded data removed]",
      "text/plain": [
       "<Figure size 1120x560 with 1 Axes>"
      ]
     },
     "metadata": {
      "needs_background": "light"
     },
     "output_type": "display_data"
    }
   ],
   "source": [
    "# Monthwise Sales\n",
    "\n",
    "plt.figure(figsize=(14,7), dpi=80)\n",
    "plt.bar(data['Month'], data['Weekly_Sales'])\n",
    "plt.xlabel('Months')\n",
    "plt.ylabel('Weekly_Sales')\n",
    "plt.title('Monthwise Sales')"
   ]
  },
  {
   "cell_type": "code",
   "execution_count": 30,
   "id": "39244a51-af42-47f5-8e7c-b346b85e38d2",
   "metadata": {},
   "outputs": [
    {
     "data": {
      "text/plain": [
       "Text(0.5, 1.0, 'Yearly Sales')"
      ]
     },
     "execution_count": 30,
     "metadata": {},
     "output_type": "execute_result"
    },
    {
     "data": {
      "text/plain": [
       "<Figure size 800x560 with 0 Axes>"
      ]
     },
     "metadata": {},
     "output_type": "display_data"
    },
    {
     "data": {
      "image/png": "[encoded data removed]",
      "text/plain": [
       "<Figure size 432x288 with 1 Axes>"
      ]
     },
     "metadata": {
      "needs_background": "light"
     },
     "output_type": "display_data"
    }
   ],
   "source": [
    "# Yearly Sales\n",
    "\n",
    "plt.figure(figsize=(10,7), dpi=80)\n",
    "data.groupby('Year')[['Weekly_Sales']].sum().plot(kind='bar', legend=False)\n",
    "plt.title('Yearly Sales')"
   ]
  },
  {
   "cell_type": "code",
   "execution_count": 31,
   "id": "b6c5e495-96a3-4155-b661-e075e696c971",
   "metadata": {},
   "outputs": [],
   "source": [
    "#Semesterwise Sales\n",
    "data ['semester'] = np.where(data['Date'].dt.month.le(6),'H1','H2')"
   ]
  },
  {
   "cell_type": "code",
   "execution_count": 32,
   "id": "c843006c-427e-48b2-86b8-2ef17a5daf92",
   "metadata": {},
   "outputs": [
    {
     "data": {
      "text/html": [
       "<div>\n",
       "<style scoped>\n",
       "    .dataframe tbody tr th:only-of-type {\n",
       "        vertical-align: middle;\n",
       "    }\n",
       "\n",
       "    .dataframe tbody tr th {\n",
       "        vertical-align: top;\n",
       "    }\n",
       "\n",
       "    .dataframe thead th {\n",
       "        text-align: right;\n",
       "    }\n",
       "</style>\n",
       "<table border=\"1\" class=\"dataframe\">\n",
       "  <thead>\n",
       "    <tr style=\"text-align: right;\">\n",
       "      <th></th>\n",
       "      <th>Store</th>\n",
       "      <th>Date</th>\n",
       "      <th>Weekly_Sales</th>\n",
       "      <th>Holiday_Flag</th>\n",
       "      <th>Temperature</th>\n",
       "      <th>Fuel_Price</th>\n",
       "      <th>CPI</th>\n",
       "      <th>Unemployment</th>\n",
       "      <th>Day</th>\n",
       "      <th>Month</th>\n",
       "      <th>Year</th>\n",
       "      <th>semester</th>\n",
       "    </tr>\n",
       "  </thead>\n",
       "  <tbody>\n",
       "    <tr>\n",
       "      <th>0</th>\n",
       "      <td>1</td>\n",
       "      <td>2010-05-02</td>\n",
       "      <td>1643690.90</td>\n",
       "      <td>0</td>\n",
       "      <td>42.31</td>\n",
       "      <td>2.572</td>\n",
       "      <td>211.096358</td>\n",
       "      <td>8.106</td>\n",
       "      <td>2</td>\n",
       "      <td>5</td>\n",
       "      <td>2010</td>\n",
       "      <td>H1</td>\n",
       "    </tr>\n",
       "    <tr>\n",
       "      <th>1</th>\n",
       "      <td>1</td>\n",
       "      <td>2010-12-02</td>\n",
       "      <td>1641957.44</td>\n",
       "      <td>1</td>\n",
       "      <td>38.51</td>\n",
       "      <td>2.548</td>\n",
       "      <td>211.242170</td>\n",
       "      <td>8.106</td>\n",
       "      <td>2</td>\n",
       "      <td>12</td>\n",
       "      <td>2010</td>\n",
       "      <td>H2</td>\n",
       "    </tr>\n",
       "    <tr>\n",
       "      <th>2</th>\n",
       "      <td>1</td>\n",
       "      <td>2010-02-19</td>\n",
       "      <td>1611968.17</td>\n",
       "      <td>0</td>\n",
       "      <td>39.93</td>\n",
       "      <td>2.514</td>\n",
       "      <td>211.289143</td>\n",
       "      <td>8.106</td>\n",
       "      <td>19</td>\n",
       "      <td>2</td>\n",
       "      <td>2010</td>\n",
       "      <td>H1</td>\n",
       "    </tr>\n",
       "    <tr>\n",
       "      <th>3</th>\n",
       "      <td>1</td>\n",
       "      <td>2010-02-26</td>\n",
       "      <td>1409727.59</td>\n",
       "      <td>0</td>\n",
       "      <td>46.63</td>\n",
       "      <td>2.561</td>\n",
       "      <td>211.319643</td>\n",
       "      <td>8.106</td>\n",
       "      <td>26</td>\n",
       "      <td>2</td>\n",
       "      <td>2010</td>\n",
       "      <td>H1</td>\n",
       "    </tr>\n",
       "    <tr>\n",
       "      <th>4</th>\n",
       "      <td>1</td>\n",
       "      <td>2010-05-03</td>\n",
       "      <td>1554806.68</td>\n",
       "      <td>0</td>\n",
       "      <td>46.50</td>\n",
       "      <td>2.625</td>\n",
       "      <td>211.350143</td>\n",
       "      <td>8.106</td>\n",
       "      <td>3</td>\n",
       "      <td>5</td>\n",
       "      <td>2010</td>\n",
       "      <td>H1</td>\n",
       "    </tr>\n",
       "  </tbody>\n",
       "</table>\n",
       "</div>"
      ],
      "text/plain": [
       "   Store       Date  Weekly_Sales  Holiday_Flag  Temperature  Fuel_Price  \\\n",
       "0      1 2010-05-02    1643690.90             0        42.31       2.572   \n",
       "1      1 2010-12-02    1641957.44             1        38.51       2.548   \n",
       "2      1 2010-02-19    1611968.17             0        39.93       2.514   \n",
       "3      1 2010-02-26    1409727.59             0        46.63       2.561   \n",
       "4      1 2010-05-03    1554806.68             0        46.50       2.625   \n",
       "\n",
       "          CPI  Unemployment  Day  Month  Year semester  \n",
       "0  211.096358         8.106    2      5  2010       H1  \n",
       "1  211.242170         8.106    2     12  2010       H2  \n",
       "2  211.289143         8.106   19      2  2010       H1  \n",
       "3  211.319643         8.106   26      2  2010       H1  \n",
       "4  211.350143         8.106    3      5  2010       H1  "
      ]
     },
     "execution_count": 32,
     "metadata": {},
     "output_type": "execute_result"
    }
   ],
   "source": [
    "data.head()"
   ]
  },
  {
   "cell_type": "code",
   "execution_count": 33,
   "id": "87816336-a847-4987-8bd3-cf7263974efd",
   "metadata": {},
   "outputs": [
    {
     "data": {
      "text/plain": [
       "0       H1\n",
       "1       H2\n",
       "2       H1\n",
       "3       H1\n",
       "4       H1\n",
       "        ..\n",
       "6430    H2\n",
       "6431    H1\n",
       "6432    H2\n",
       "6433    H2\n",
       "6434    H2\n",
       "Name: semester, Length: 6435, dtype: object"
      ]
     },
     "execution_count": 33,
     "metadata": {},
     "output_type": "execute_result"
    }
   ],
   "source": [
    "data['semester']"
   ]
  },
  {
   "cell_type": "code",
   "execution_count": 34,
   "id": "36e6a5f9-abad-44ec-a7f7-76a2de6abf8d",
   "metadata": {},
   "outputs": [
    {
     "data": {
      "text/plain": [
       "<AxesSubplot: xlabel='Year,semester'>"
      ]
     },
     "execution_count": 34,
     "metadata": {},
     "output_type": "execute_result"
    },
    {
     "data": {
      "image/png": "[encoded data removed]",
      "text/plain": [
       "<Figure size 432x288 with 1 Axes>"
      ]
     },
     "metadata": {
      "needs_background": "light"
     },
     "output_type": "display_data"
    }
   ],
   "source": [
    "data.groupby(['Year','semester'])['Weekly_Sales'].mean().plot()"
   ]
  },
  {
   "cell_type": "code",
   "execution_count": 35,
   "id": "4ef95134-5619-4fbb-b9f0-7e566decd265",
   "metadata": {},
   "outputs": [
    {
     "data": {
      "image/png": "[encoded data removed]",
      "text/plain": [
       "<Figure size 1080x576 with 1 Axes>"
      ]
     },
     "metadata": {
      "needs_background": "light"
     },
     "output_type": "display_data"
    }
   ],
   "source": [
    "plt.figure(figsize =(15,8))\n",
    "semester=sns.barplot(x='semester',y='Weekly_Sales',data=data)"
   ]
  },
  {
   "cell_type": "markdown",
   "id": "425bf28a-2f32-42ab-95d8-a93194e46d2b",
   "metadata": {},
   "source": [
    "#### 1) Year 2010 has the highest sales and 2012 has the lowest sales. \n",
    "#### (2) December month has the highest weekly sales. \n",
    "#### (3) Semester 2 has the highest weekly sales.\n",
    "#### (4) Year 2011 has the highest weekly sales.\n"
   ]
  },
  {
   "cell_type": "markdown",
   "id": "d1344a02-534c-43b2-8882-c349481dfa71",
   "metadata": {},
   "source": [
    "### B.Model Building\n",
    "##### Build prediction models to forecast demand (Modeling)"
   ]
  },
  {
   "cell_type": "markdown",
   "id": "7376f7c1-0a56-41a2-a0a3-b11269a2262c",
   "metadata": {},
   "source": [
    "#### (1) Statistical Model"
   ]
  },
  {
   "cell_type": "code",
   "execution_count": 36,
   "id": "e9d3832a-1c5b-4155-ada3-db8067e7180d",
   "metadata": {},
   "outputs": [
    {
     "data": {
      "text/html": [
       "<table class=\"simpletable\">\n",
       "<caption>OLS Regression Results</caption>\n",
       "<tr>\n",
       "  <th>Dep. Variable:</th>      <td>Weekly_Sales</td>   <th>  R-squared:         </th> <td>   0.025</td> \n",
       "</tr>\n",
       "<tr>\n",
       "  <th>Model:</th>                   <td>OLS</td>       <th>  Adj. R-squared:    </th> <td>   0.025</td> \n",
       "</tr>\n",
       "<tr>\n",
       "  <th>Method:</th>             <td>Least Squares</td>  <th>  F-statistic:       </th> <td>   33.57</td> \n",
       "</tr>\n",
       "<tr>\n",
       "  <th>Date:</th>             <td>Wed, 17 Apr 2024</td> <th>  Prob (F-statistic):</th> <td>5.93e-34</td> \n",
       "</tr>\n",
       "<tr>\n",
       "  <th>Time:</th>                 <td>13:31:23</td>     <th>  Log-Likelihood:    </th> <td> -94269.</td> \n",
       "</tr>\n",
       "<tr>\n",
       "  <th>No. Observations:</th>      <td>  6435</td>      <th>  AIC:               </th> <td>1.886e+05</td>\n",
       "</tr>\n",
       "<tr>\n",
       "  <th>Df Residuals:</th>          <td>  6429</td>      <th>  BIC:               </th> <td>1.886e+05</td>\n",
       "</tr>\n",
       "<tr>\n",
       "  <th>Df Model:</th>              <td>     5</td>      <th>                     </th>     <td> </td>    \n",
       "</tr>\n",
       "<tr>\n",
       "  <th>Covariance Type:</th>      <td>nonrobust</td>    <th>                     </th>     <td> </td>    \n",
       "</tr>\n",
       "</table>\n",
       "<table class=\"simpletable\">\n",
       "<tr>\n",
       "        <td></td>          <th>coef</th>     <th>std err</th>      <th>t</th>      <th>P>|t|</th>  <th>[0.025</th>    <th>0.975]</th>  \n",
       "</tr>\n",
       "<tr>\n",
       "  <th>Intercept</th>    <td> 1.727e+06</td> <td> 7.98e+04</td> <td>   21.646</td> <td> 0.000</td> <td> 1.57e+06</td> <td> 1.88e+06</td>\n",
       "</tr>\n",
       "<tr>\n",
       "  <th>CPI</th>          <td>-1598.8717</td> <td>  195.127</td> <td>   -8.194</td> <td> 0.000</td> <td>-1981.385</td> <td>-1216.358</td>\n",
       "</tr>\n",
       "<tr>\n",
       "  <th>Unemployment</th> <td>-4.155e+04</td> <td> 3972.660</td> <td>  -10.460</td> <td> 0.000</td> <td>-4.93e+04</td> <td>-3.38e+04</td>\n",
       "</tr>\n",
       "<tr>\n",
       "  <th>Fuel_Price</th>   <td>-1.017e+04</td> <td> 1.58e+04</td> <td>   -0.645</td> <td> 0.519</td> <td>-4.11e+04</td> <td> 2.07e+04</td>\n",
       "</tr>\n",
       "<tr>\n",
       "  <th>Temperature</th>  <td> -724.1715</td> <td>  400.461</td> <td>   -1.808</td> <td> 0.071</td> <td>-1509.207</td> <td>   60.864</td>\n",
       "</tr>\n",
       "<tr>\n",
       "  <th>Holiday_Flag</th> <td> 7.489e+04</td> <td> 2.76e+04</td> <td>    2.710</td> <td> 0.007</td> <td> 2.07e+04</td> <td> 1.29e+05</td>\n",
       "</tr>\n",
       "</table>\n",
       "<table class=\"simpletable\">\n",
       "<tr>\n",
       "  <th>Omnibus:</th>       <td>365.109</td> <th>  Durbin-Watson:     </th> <td>   0.114</td>\n",
       "</tr>\n",
       "<tr>\n",
       "  <th>Prob(Omnibus):</th> <td> 0.000</td>  <th>  Jarque-Bera (JB):  </th> <td> 430.212</td>\n",
       "</tr>\n",
       "<tr>\n",
       "  <th>Skew:</th>          <td> 0.633</td>  <th>  Prob(JB):          </th> <td>3.81e-94</td>\n",
       "</tr>\n",
       "<tr>\n",
       "  <th>Kurtosis:</th>      <td> 3.007</td>  <th>  Cond. No.          </th> <td>2.16e+03</td>\n",
       "</tr>\n",
       "</table><br/><br/>Notes:<br/>[1] Standard Errors assume that the covariance matrix of the errors is correctly specified.<br/>[2] The condition number is large, 2.16e+03. This might indicate that there are<br/>strong multicollinearity or other numerical problems."
      ],
      "text/plain": [
       "<class 'statsmodels.iolib.summary.Summary'>\n",
       "\"\"\"\n",
       "                            OLS Regression Results                            \n",
       "==============================================================================\n",
       "Dep. Variable:           Weekly_Sales   R-squared:                       0.025\n",
       "Model:                            OLS   Adj. R-squared:                  0.025\n",
       "Method:                 Least Squares   F-statistic:                     33.57\n",
       "Date:                Wed, 17 Apr 2024   Prob (F-statistic):           5.93e-34\n",
       "Time:                        13:31:23   Log-Likelihood:                -94269.\n",
       "No. Observations:                6435   AIC:                         1.886e+05\n",
       "Df Residuals:                    6429   BIC:                         1.886e+05\n",
       "Df Model:                           5                                         \n",
       "Covariance Type:            nonrobust                                         \n",
       "================================================================================\n",
       "                   coef    std err          t      P>|t|      [0.025      0.975]\n",
       "--------------------------------------------------------------------------------\n",
       "Intercept     1.727e+06   7.98e+04     21.646      0.000    1.57e+06    1.88e+06\n",
       "CPI          -1598.8717    195.127     -8.194      0.000   -1981.385   -1216.358\n",
       "Unemployment -4.155e+04   3972.660    -10.460      0.000   -4.93e+04   -3.38e+04\n",
       "Fuel_Price   -1.017e+04   1.58e+04     -0.645      0.519   -4.11e+04    2.07e+04\n",
       "Temperature   -724.1715    400.461     -1.808      0.071   -1509.207      60.864\n",
       "Holiday_Flag  7.489e+04   2.76e+04      2.710      0.007    2.07e+04    1.29e+05\n",
       "==============================================================================\n",
       "Omnibus:                      365.109   Durbin-Watson:                   0.114\n",
       "Prob(Omnibus):                  0.000   Jarque-Bera (JB):              430.212\n",
       "Skew:                           0.633   Prob(JB):                     3.81e-94\n",
       "Kurtosis:                       3.007   Cond. No.                     2.16e+03\n",
       "==============================================================================\n",
       "\n",
       "Notes:\n",
       "[1] Standard Errors assume that the covariance matrix of the errors is correctly specified.\n",
       "[2] The condition number is large, 2.16e+03. This might indicate that there are\n",
       "strong multicollinearity or other numerical problems.\n",
       "\"\"\""
      ]
     },
     "execution_count": 36,
     "metadata": {},
     "output_type": "execute_result"
    }
   ],
   "source": [
    "import statsmodels.formula.api as sm\n",
    "model=sm.ols('Weekly_Sales~CPI+Unemployment+Fuel_Price+Temperature+Holiday_Flag',data=data).fit()\n",
    "model.summary()"
   ]
  },
  {
   "cell_type": "markdown",
   "id": "7f215922-c023-4460-a4aa-56f714a725ea",
   "metadata": {},
   "source": [
    "#### Remark: The statistical model does not give a good accuracy and a lot of data manipulation needs to be done to get a good accuracy."
   ]
  },
  {
   "cell_type": "markdown",
   "id": "fd53843a-8d0f-4d62-a879-070ab60e930f",
   "metadata": {},
   "source": [
    "#### Defining dependent and independent variables. Here, store, fuel price, CPI, unemployment, day, month, and year are the independent variables and weekly sales is the dependent variable. Now, it’s time to train the model. Import train_test_split from sklearn.model_selection and train 80% of the data and test on the rest 20% of the data."
   ]
  },
  {
   "cell_type": "code",
   "execution_count": 37,
   "id": "ab121e67-1d64-4a21-aa8b-52ae0ceed524",
   "metadata": {},
   "outputs": [],
   "source": [
    "#Define independent and dependent variable\n",
    "# Select features and target \n",
    "x=data[['Store','Fuel_Price','CPI','Unemployment','Day','Month','Year']]\n",
    "y=data['Weekly_Sales']"
   ]
  },
  {
   "cell_type": "code",
   "execution_count": 38,
   "id": "01588451-03c6-4a8c-b14b-6c1174124e2c",
   "metadata": {},
   "outputs": [],
   "source": [
    "from sklearn.model_selection import train_test_split\n",
    "# Split data to train and test (0.80:0.20)\n",
    "x_train, x_test, y_train, y_test = train_test_split(x,y,test_size=0.2)"
   ]
  },
  {
   "cell_type": "code",
   "execution_count": 39,
   "id": "01884cea-4e4a-4d12-830b-f4836fcdc7db",
   "metadata": {},
   "outputs": [],
   "source": [
    "from sklearn.preprocessing import StandardScaler\n",
    "sc= StandardScaler()\n",
    "x_train = sc.fit_transform(x_train)\n",
    "x_test = sc.fit_transform(x_test)"
   ]
  },
  {
   "cell_type": "markdown",
   "id": "0b89a160-03a7-4377-b682-b6c9df53874b",
   "metadata": {},
   "source": [
    "#### (2) Linear Regression model"
   ]
  },
  {
   "cell_type": "code",
   "execution_count": 40,
   "id": "47233e55-bbfc-41c7-94f4-4f83a124f0c8",
   "metadata": {},
   "outputs": [
    {
     "name": "stdout",
     "output_type": "stream",
     "text": [
      "Linear Regression \n",
      "\n",
      "\n",
      "Accuracy: 14.489679918130216\n",
      "Mean Absolute Error: 424454.0765194912\n",
      "Mean Squared Error: 265015737709.25616\n",
      "Root Mean Squared Error: 514796.7926369163\n"
     ]
    }
   ],
   "source": [
    "# Import sklearn\n",
    "from sklearn import metrics\n",
    "from sklearn.linear_model import LinearRegression \n",
    "\n",
    "print('Linear Regression \\n')\n",
    "print()\n",
    "reg = LinearRegression()\n",
    "reg.fit(x_train, y_train)\n",
    "y_pred = reg.predict(x_test)\n",
    "print('Accuracy:',reg.score(x_train, y_train)*100)\n",
    "\n",
    "\n",
    "print('Mean Absolute Error:', metrics.mean_absolute_error(y_test, y_pred))\n",
    "print('Mean Squared Error:', metrics.mean_squared_error(y_test, y_pred))\n",
    "print('Root Mean Squared Error:', np.sqrt(metrics.mean_squared_error(y_test, y_pred)))\n"
   ]
  },
  {
   "cell_type": "code",
   "execution_count": 41,
   "id": "624163ea-b612-4a5c-bd37-8f7df077b8e2",
   "metadata": {},
   "outputs": [
    {
     "name": "stdout",
     "output_type": "stream",
     "text": [
      "Random Forest Regressor:\n",
      "\n",
      "Accuracy: 95.6738770422647\n",
      "Mean Absolute Error: 66415.10584058112\n",
      "Mean Squared Error: 13397009304.230692\n",
      "Root Mean Squared Error: 115745.45046882272\n"
     ]
    }
   ],
   "source": [
    "# Random Forest Regressor\n",
    "from sklearn.ensemble import RandomForestRegressor\n",
    "rfr = RandomForestRegressor()\n",
    "print('Random Forest Regressor:')\n",
    "print()\n",
    "rfr = RandomForestRegressor(n_estimators = 400,max_depth=15,n_jobs=5)        \n",
    "rfr.fit(x_train,y_train)\n",
    "y_pred=rfr.predict(x_test)\n",
    "print('Accuracy:',rfr.score(x_test, y_test)*100)\n",
    "\n",
    "print('Mean Absolute Error:', metrics.mean_absolute_error(y_test, y_pred))\n",
    "print('Mean Squared Error:', metrics.mean_squared_error(y_test, y_pred))\n",
    "print('Root Mean Squared Error:', np.sqrt(metrics.mean_squared_error(y_test, y_pred)))"
   ]
  },
  {
   "cell_type": "markdown",
   "id": "7bb194f4-23f2-4967-8ca8-856fc8513cc8",
   "metadata": {},
   "source": [
    "#### Here, we evaluated 3 algorithms to predict weekly sales. Statistical model and linear regression showed low accuracy, while Random Forest Regression achieved almost 95% accuracy. Thus, Random Forest Regression is the best model for forecasting weekly sales."
   ]
  },
  {
   "cell_type": "markdown",
   "id": "2fcc0d6f-c4c6-445f-8e4f-501d06e7b71f",
   "metadata": {},
   "source": [
    "##### Now, With the help of plots, we will see the relationship between 1)Weekly_Sales vs Unemployment 2)  Weekly_Sales vs exp_day 3) Weekly_Sales vs CPI 4) Weekly_Sales vs Fuel_Price 5) Weekly_Sales vs Holiday 6) Weekly_Sales vs Temperature"
   ]
  },
  {
   "cell_type": "code",
   "execution_count": 42,
   "id": "c3776b55-eb72-4e7a-95b8-90e300a51c59",
   "metadata": {},
   "outputs": [],
   "source": [
    "experiment_day_start=5\n",
    "data['Date'] = pd.to_datetime(data['Date'], dayfirst=True)\n",
    "data['exp_day'] = (data['Date']-data['Date'].min()).dt.days + experiment_day_start"
   ]
  },
  {
   "cell_type": "code",
   "execution_count": 43,
   "id": "6249f70c-fbc2-4a64-8c8f-82bcb0ba90ab",
   "metadata": {},
   "outputs": [
    {
     "data": {
      "text/html": [
       "<div>\n",
       "<style scoped>\n",
       "    .dataframe tbody tr th:only-of-type {\n",
       "        vertical-align: middle;\n",
       "    }\n",
       "\n",
       "    .dataframe tbody tr th {\n",
       "        vertical-align: top;\n",
       "    }\n",
       "\n",
       "    .dataframe thead th {\n",
       "        text-align: right;\n",
       "    }\n",
       "</style>\n",
       "<table border=\"1\" class=\"dataframe\">\n",
       "  <thead>\n",
       "    <tr style=\"text-align: right;\">\n",
       "      <th></th>\n",
       "      <th>Store</th>\n",
       "      <th>Date</th>\n",
       "      <th>Weekly_Sales</th>\n",
       "      <th>Holiday_Flag</th>\n",
       "      <th>Temperature</th>\n",
       "      <th>Fuel_Price</th>\n",
       "      <th>CPI</th>\n",
       "      <th>Unemployment</th>\n",
       "      <th>Day</th>\n",
       "      <th>Month</th>\n",
       "      <th>Year</th>\n",
       "      <th>semester</th>\n",
       "      <th>exp_day</th>\n",
       "    </tr>\n",
       "  </thead>\n",
       "  <tbody>\n",
       "    <tr>\n",
       "      <th>0</th>\n",
       "      <td>1</td>\n",
       "      <td>2010-05-02</td>\n",
       "      <td>1643690.90</td>\n",
       "      <td>0</td>\n",
       "      <td>42.31</td>\n",
       "      <td>2.572</td>\n",
       "      <td>211.096358</td>\n",
       "      <td>8.106</td>\n",
       "      <td>2</td>\n",
       "      <td>5</td>\n",
       "      <td>2010</td>\n",
       "      <td>H1</td>\n",
       "      <td>117</td>\n",
       "    </tr>\n",
       "    <tr>\n",
       "      <th>1</th>\n",
       "      <td>1</td>\n",
       "      <td>2010-12-02</td>\n",
       "      <td>1641957.44</td>\n",
       "      <td>1</td>\n",
       "      <td>38.51</td>\n",
       "      <td>2.548</td>\n",
       "      <td>211.242170</td>\n",
       "      <td>8.106</td>\n",
       "      <td>2</td>\n",
       "      <td>12</td>\n",
       "      <td>2010</td>\n",
       "      <td>H2</td>\n",
       "      <td>331</td>\n",
       "    </tr>\n",
       "    <tr>\n",
       "      <th>2</th>\n",
       "      <td>1</td>\n",
       "      <td>2010-02-19</td>\n",
       "      <td>1611968.17</td>\n",
       "      <td>0</td>\n",
       "      <td>39.93</td>\n",
       "      <td>2.514</td>\n",
       "      <td>211.289143</td>\n",
       "      <td>8.106</td>\n",
       "      <td>19</td>\n",
       "      <td>2</td>\n",
       "      <td>2010</td>\n",
       "      <td>H1</td>\n",
       "      <td>45</td>\n",
       "    </tr>\n",
       "    <tr>\n",
       "      <th>3</th>\n",
       "      <td>1</td>\n",
       "      <td>2010-02-26</td>\n",
       "      <td>1409727.59</td>\n",
       "      <td>0</td>\n",
       "      <td>46.63</td>\n",
       "      <td>2.561</td>\n",
       "      <td>211.319643</td>\n",
       "      <td>8.106</td>\n",
       "      <td>26</td>\n",
       "      <td>2</td>\n",
       "      <td>2010</td>\n",
       "      <td>H1</td>\n",
       "      <td>52</td>\n",
       "    </tr>\n",
       "    <tr>\n",
       "      <th>4</th>\n",
       "      <td>1</td>\n",
       "      <td>2010-05-03</td>\n",
       "      <td>1554806.68</td>\n",
       "      <td>0</td>\n",
       "      <td>46.50</td>\n",
       "      <td>2.625</td>\n",
       "      <td>211.350143</td>\n",
       "      <td>8.106</td>\n",
       "      <td>3</td>\n",
       "      <td>5</td>\n",
       "      <td>2010</td>\n",
       "      <td>H1</td>\n",
       "      <td>118</td>\n",
       "    </tr>\n",
       "  </tbody>\n",
       "</table>\n",
       "</div>"
      ],
      "text/plain": [
       "   Store       Date  Weekly_Sales  Holiday_Flag  Temperature  Fuel_Price  \\\n",
       "0      1 2010-05-02    1643690.90             0        42.31       2.572   \n",
       "1      1 2010-12-02    1641957.44             1        38.51       2.548   \n",
       "2      1 2010-02-19    1611968.17             0        39.93       2.514   \n",
       "3      1 2010-02-26    1409727.59             0        46.63       2.561   \n",
       "4      1 2010-05-03    1554806.68             0        46.50       2.625   \n",
       "\n",
       "          CPI  Unemployment  Day  Month  Year semester  exp_day  \n",
       "0  211.096358         8.106    2      5  2010       H1      117  \n",
       "1  211.242170         8.106    2     12  2010       H2      331  \n",
       "2  211.289143         8.106   19      2  2010       H1       45  \n",
       "3  211.319643         8.106   26      2  2010       H1       52  \n",
       "4  211.350143         8.106    3      5  2010       H1      118  "
      ]
     },
     "execution_count": 43,
     "metadata": {},
     "output_type": "execute_result"
    }
   ],
   "source": [
    "data.head()"
   ]
  },
  {
   "cell_type": "code",
   "execution_count": 44,
   "id": "29c74626-901d-4029-adc0-768f1e953ed9",
   "metadata": {},
   "outputs": [
    {
     "data": {
      "image/png": "[encoded data removed]",
      "text/plain": [
       "<Figure size 432x288 with 1 Axes>"
      ]
     },
     "metadata": {
      "needs_background": "light"
     },
     "output_type": "display_data"
    },
    {
     "name": "stdout",
     "output_type": "stream",
     "text": [
      "-0.10617608965795412\n"
     ]
    },
    {
     "data": {
      "image/png": "[encoded data removed]",
      "text/plain": [
       "<Figure size 432x288 with 1 Axes>"
      ]
     },
     "metadata": {
      "needs_background": "light"
     },
     "output_type": "display_data"
    }
   ],
   "source": [
    "from sklearn.linear_model import LinearRegression\n",
    "from scipy import stats\n",
    "#Weekly sales vs Unemployment\n",
    "x = data['Unemployment']\n",
    "y = data['Weekly_Sales']\n",
    "plt.scatter(x, y)\n",
    "plt.show()\n",
    "slope, intercept, r, p, std_err = stats.linregress(x, y)\n",
    "print(r)# r should be between -1 to 1\n",
    "def myfunc(x):\n",
    "  return slope * x + intercept\n",
    "mymodel = list(map(myfunc, x))\n",
    "plt.scatter(x, y)\n",
    "plt.xlabel('Unemployment')\n",
    "plt.ylabel('Weekly_Sales')\n",
    "plt.plot(x, mymodel)\n",
    "plt.show()"
   ]
  },
  {
   "cell_type": "code",
   "execution_count": 45,
   "id": "c31c16f8-18e7-4ead-a156-f2b184323467",
   "metadata": {},
   "outputs": [
    {
     "data": {
      "image/png": "[encoded data removed]",
      "text/plain": [
       "<Figure size 432x288 with 1 Axes>"
      ]
     },
     "metadata": {
      "needs_background": "light"
     },
     "output_type": "display_data"
    },
    {
     "name": "stdout",
     "output_type": "stream",
     "text": [
      "0.004591803306455429\n"
     ]
    },
    {
     "data": {
      "image/png": "[encoded data removed]",
      "text/plain": [
       "<Figure size 432x288 with 1 Axes>"
      ]
     },
     "metadata": {
      "needs_background": "light"
     },
     "output_type": "display_data"
    }
   ],
   "source": [
    "# Weekly_Sales vs exp_day\n",
    "x = data['exp_day']\n",
    "y = data['Weekly_Sales']\n",
    "plt.scatter(x, y)\n",
    "plt.show()\n",
    "slope, intercept, r, p, std_err = stats.linregress(x, y)\n",
    "print(r)# r should be between -1 to 1\n",
    "def myfunc(x):\n",
    "  return slope * x + intercept\n",
    "mymodel = list(map(myfunc, x))\n",
    "plt.scatter(x, y)\n",
    "plt.xlabel('exp_day')\n",
    "plt.ylabel('Weekly_Sales')\n",
    "plt.plot(x, mymodel)\n",
    "plt.show()"
   ]
  },
  {
   "cell_type": "code",
   "execution_count": 46,
   "id": "3ac24b0e-1458-4ba7-97f2-2808e30664d2",
   "metadata": {},
   "outputs": [
    {
     "data": {
      "image/png": "[encoded data removed]",
      "text/plain": [
       "<Figure size 432x288 with 1 Axes>"
      ]
     },
     "metadata": {
      "needs_background": "light"
     },
     "output_type": "display_data"
    },
    {
     "name": "stdout",
     "output_type": "stream",
     "text": [
      "-0.07263416204017624\n"
     ]
    },
    {
     "data": {
      "image/png": "[encoded data removed]",
      "text/plain": [
       "<Figure size 432x288 with 1 Axes>"
      ]
     },
     "metadata": {
      "needs_background": "light"
     },
     "output_type": "display_data"
    }
   ],
   "source": [
    "#Weekly sales vs CPI\n",
    "x = data['CPI']\n",
    "y = data['Weekly_Sales']\n",
    "plt.scatter(x, y)\n",
    "plt.show()\n",
    "slope, intercept, r, p, std_err = stats.linregress(x, y)\n",
    "print(r)# r should be between -1 to 1\n",
    "def myfunc(x):\n",
    "  return slope * x + intercept\n",
    "mymodel = list(map(myfunc, x))\n",
    "plt.scatter(x, y)\n",
    "plt.xlabel('CPI')\n",
    "plt.ylabel('Weekly_Sales')\n",
    "plt.plot(x, mymodel)\n",
    "plt.show()"
   ]
  },
  {
   "cell_type": "code",
   "execution_count": 47,
   "id": "ac5587d1-5db5-4f91-b5c0-8a12ffadf322",
   "metadata": {},
   "outputs": [
    {
     "data": {
      "image/png": "[encoded data removed]",
      "text/plain": [
       "<Figure size 432x288 with 1 Axes>"
      ]
     },
     "metadata": {
      "needs_background": "light"
     },
     "output_type": "display_data"
    },
    {
     "name": "stdout",
     "output_type": "stream",
     "text": [
      "0.009463786314475135\n"
     ]
    },
    {
     "data": {
      "image/png": "[encoded data removed]",
      "text/plain": [
       "<Figure size 432x288 with 1 Axes>"
      ]
     },
     "metadata": {
      "needs_background": "light"
     },
     "output_type": "display_data"
    }
   ],
   "source": [
    "#Weekly sales vs Fuel price\n",
    "x = data['Fuel_Price']\n",
    "y = data['Weekly_Sales']\n",
    "plt.scatter(x, y)\n",
    "plt.show()\n",
    "slope, intercept, r, p, std_err = stats.linregress(x, y)\n",
    "print(r)# r should be between -1 to 1\n",
    "def myfunc(x):\n",
    "  return slope * x + intercept\n",
    "mymodel = list(map(myfunc, x))\n",
    "plt.scatter(x, y)\n",
    "plt.xlabel('Fuel_Price')\n",
    "plt.ylabel('Weekly_Sales')\n",
    "plt.plot(x, mymodel)\n",
    "plt.show()"
   ]
  },
  {
   "cell_type": "code",
   "execution_count": 48,
   "id": "d1f33db4-0460-4b4e-b403-513f31d340a9",
   "metadata": {},
   "outputs": [
    {
     "data": {
      "image/png": "[encoded data removed]",
      "text/plain": [
       "<Figure size 432x288 with 1 Axes>"
      ]
     },
     "metadata": {
      "needs_background": "light"
     },
     "output_type": "display_data"
    },
    {
     "name": "stdout",
     "output_type": "stream",
     "text": [
      "0.03689096801041455\n"
     ]
    },
    {
     "data": {
      "image/png": "[encoded data removed]",
      "text/plain": [
       "<Figure size 432x288 with 1 Axes>"
      ]
     },
     "metadata": {
      "needs_background": "light"
     },
     "output_type": "display_data"
    }
   ],
   "source": [
    "#Weekly sales vs Holidays\n",
    "x = data['Holiday_Flag']\n",
    "y = data['Weekly_Sales']\n",
    "plt.scatter(x, y)\n",
    "plt.show()\n",
    "slope, intercept, r, p, std_err = stats.linregress(x, y)\n",
    "print(r)# r should be between -1 to 1\n",
    "def myfunc(x):\n",
    "  return slope * x + intercept\n",
    "mymodel = list(map(myfunc, x))\n",
    "plt.scatter(x, y)\n",
    "plt.xlabel('Holiday_Flag')\n",
    "plt.ylabel('Weekly_Sales')\n",
    "plt.plot(x, mymodel)\n",
    "plt.show()\n"
   ]
  },
  {
   "cell_type": "code",
   "execution_count": 49,
   "id": "837f3cf3-693d-4cb9-942b-3021e8daa373",
   "metadata": {},
   "outputs": [
    {
     "data": {
      "image/png": "[encoded data removed]",
      "text/plain": [
       "<Figure size 432x288 with 1 Axes>"
      ]
     },
     "metadata": {
      "needs_background": "light"
     },
     "output_type": "display_data"
    },
    {
     "name": "stdout",
     "output_type": "stream",
     "text": [
      "-0.06381001317946958\n"
     ]
    },
    {
     "data": {
      "image/png": "[encoded data removed]",
      "text/plain": [
       "<Figure size 432x288 with 1 Axes>"
      ]
     },
     "metadata": {
      "needs_background": "light"
     },
     "output_type": "display_data"
    }
   ],
   "source": [
    "#Weekly sales vs Temperature\n",
    "x = data['Temperature']\n",
    "y = data['Weekly_Sales']\n",
    "plt.scatter(x, y)\n",
    "plt.show()\n",
    "slope, intercept, r, p, std_err = stats.linregress(x, y)\n",
    "print(r)# r should be between -1 to 1\n",
    "def myfunc(x):\n",
    "  return slope * x + intercept\n",
    "mymodel = list(map(myfunc, x))\n",
    "plt.scatter(x, y)\n",
    "plt.xlabel('Temperature')\n",
    "plt.ylabel('Weekly_Sales')\n",
    "plt.plot(x, mymodel)\n",
    "plt.show()"
   ]
  },
  {
   "cell_type": "markdown",
   "id": "a53f584b-b848-489a-bbb1-3f4367844b6b",
   "metadata": {},
   "source": [
    "### Change dates into days by creating new variable."
   ]
  },
  {
   "cell_type": "code",
   "execution_count": 50,
   "id": "25077a92-33d0-4f64-9641-f3e561f59204",
   "metadata": {},
   "outputs": [
    {
     "data": {
      "text/html": [
       "<div>\n",
       "<style scoped>\n",
       "    .dataframe tbody tr th:only-of-type {\n",
       "        vertical-align: middle;\n",
       "    }\n",
       "\n",
       "    .dataframe tbody tr th {\n",
       "        vertical-align: top;\n",
       "    }\n",
       "\n",
       "    .dataframe thead th {\n",
       "        text-align: right;\n",
       "    }\n",
       "</style>\n",
       "<table border=\"1\" class=\"dataframe\">\n",
       "  <thead>\n",
       "    <tr style=\"text-align: right;\">\n",
       "      <th></th>\n",
       "      <th>Store</th>\n",
       "      <th>Date</th>\n",
       "      <th>Weekly_Sales</th>\n",
       "      <th>Holiday_Flag</th>\n",
       "      <th>Temperature</th>\n",
       "      <th>Fuel_Price</th>\n",
       "      <th>CPI</th>\n",
       "      <th>Unemployment</th>\n",
       "      <th>Day</th>\n",
       "      <th>Month</th>\n",
       "      <th>Year</th>\n",
       "      <th>semester</th>\n",
       "      <th>exp_day</th>\n",
       "      <th>day</th>\n",
       "    </tr>\n",
       "  </thead>\n",
       "  <tbody>\n",
       "    <tr>\n",
       "      <th>0</th>\n",
       "      <td>1</td>\n",
       "      <td>2010-05-02</td>\n",
       "      <td>1643690.90</td>\n",
       "      <td>0</td>\n",
       "      <td>42.31</td>\n",
       "      <td>2.572</td>\n",
       "      <td>211.096358</td>\n",
       "      <td>8.106</td>\n",
       "      <td>2</td>\n",
       "      <td>5</td>\n",
       "      <td>2010</td>\n",
       "      <td>H1</td>\n",
       "      <td>117</td>\n",
       "      <td>Sunday</td>\n",
       "    </tr>\n",
       "    <tr>\n",
       "      <th>1</th>\n",
       "      <td>1</td>\n",
       "      <td>2010-12-02</td>\n",
       "      <td>1641957.44</td>\n",
       "      <td>1</td>\n",
       "      <td>38.51</td>\n",
       "      <td>2.548</td>\n",
       "      <td>211.242170</td>\n",
       "      <td>8.106</td>\n",
       "      <td>2</td>\n",
       "      <td>12</td>\n",
       "      <td>2010</td>\n",
       "      <td>H2</td>\n",
       "      <td>331</td>\n",
       "      <td>Thursday</td>\n",
       "    </tr>\n",
       "    <tr>\n",
       "      <th>2</th>\n",
       "      <td>1</td>\n",
       "      <td>2010-02-19</td>\n",
       "      <td>1611968.17</td>\n",
       "      <td>0</td>\n",
       "      <td>39.93</td>\n",
       "      <td>2.514</td>\n",
       "      <td>211.289143</td>\n",
       "      <td>8.106</td>\n",
       "      <td>19</td>\n",
       "      <td>2</td>\n",
       "      <td>2010</td>\n",
       "      <td>H1</td>\n",
       "      <td>45</td>\n",
       "      <td>Friday</td>\n",
       "    </tr>\n",
       "    <tr>\n",
       "      <th>3</th>\n",
       "      <td>1</td>\n",
       "      <td>2010-02-26</td>\n",
       "      <td>1409727.59</td>\n",
       "      <td>0</td>\n",
       "      <td>46.63</td>\n",
       "      <td>2.561</td>\n",
       "      <td>211.319643</td>\n",
       "      <td>8.106</td>\n",
       "      <td>26</td>\n",
       "      <td>2</td>\n",
       "      <td>2010</td>\n",
       "      <td>H1</td>\n",
       "      <td>52</td>\n",
       "      <td>Friday</td>\n",
       "    </tr>\n",
       "    <tr>\n",
       "      <th>4</th>\n",
       "      <td>1</td>\n",
       "      <td>2010-05-03</td>\n",
       "      <td>1554806.68</td>\n",
       "      <td>0</td>\n",
       "      <td>46.50</td>\n",
       "      <td>2.625</td>\n",
       "      <td>211.350143</td>\n",
       "      <td>8.106</td>\n",
       "      <td>3</td>\n",
       "      <td>5</td>\n",
       "      <td>2010</td>\n",
       "      <td>H1</td>\n",
       "      <td>118</td>\n",
       "      <td>Monday</td>\n",
       "    </tr>\n",
       "  </tbody>\n",
       "</table>\n",
       "</div>"
      ],
      "text/plain": [
       "   Store       Date  Weekly_Sales  Holiday_Flag  Temperature  Fuel_Price  \\\n",
       "0      1 2010-05-02    1643690.90             0        42.31       2.572   \n",
       "1      1 2010-12-02    1641957.44             1        38.51       2.548   \n",
       "2      1 2010-02-19    1611968.17             0        39.93       2.514   \n",
       "3      1 2010-02-26    1409727.59             0        46.63       2.561   \n",
       "4      1 2010-05-03    1554806.68             0        46.50       2.625   \n",
       "\n",
       "          CPI  Unemployment  Day  Month  Year semester  exp_day       day  \n",
       "0  211.096358         8.106    2      5  2010       H1      117    Sunday  \n",
       "1  211.242170         8.106    2     12  2010       H2      331  Thursday  \n",
       "2  211.289143         8.106   19      2  2010       H1       45    Friday  \n",
       "3  211.319643         8.106   26      2  2010       H1       52    Friday  \n",
       "4  211.350143         8.106    3      5  2010       H1      118    Monday  "
      ]
     },
     "execution_count": 50,
     "metadata": {},
     "output_type": "execute_result"
    }
   ],
   "source": [
    "#Change dates into days by creating new variable.\n",
    "data['day'] = pd.to_datetime(data['Date']).dt.day_name()\n",
    "data.head()"
   ]
  },
  {
   "cell_type": "code",
   "execution_count": 51,
   "id": "fa975388-6b78-4f70-93bf-fd7431ceb5a3",
   "metadata": {},
   "outputs": [
    {
     "data": {
      "text/plain": [
       "0      Sunday\n",
       "1    Thursday\n",
       "2      Friday\n",
       "3      Friday\n",
       "4      Monday\n",
       "5      Friday\n",
       "6      Friday\n",
       "7      Friday\n",
       "8    Thursday\n",
       "9    Saturday\n",
       "Name: day, dtype: object"
      ]
     },
     "execution_count": 51,
     "metadata": {},
     "output_type": "execute_result"
    }
   ],
   "source": [
    "data['day'].head(10)"
   ]
  }
 ],
 "metadata": {
  "kernelspec": {
   "display_name": "Python 3 [3.10]",
   "language": "python",
   "name": "python3"
  },
  "language_info": {
   "codemirror_mode": {
    "name": "ipython",
    "version": 3
   },
   "file_extension": ".py",
   "mimetype": "text/x-python",
   "name": "python",
   "nbconvert_exporter": "python",
   "pygments_lexer": "ipython3",
   "version": "3.10.2"
  }
 },
 "nbformat": 4,
 "nbformat_minor": 5
}
